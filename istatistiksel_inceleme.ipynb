{
 "cells": [
  {
   "cell_type": "markdown",
   "id": "eebda403",
   "metadata": {},
   "source": [
    "## Verilerin istatistiksel olarak incelenmesi ve aykırı değerlerin ayıklanması"
   ]
  },
  {
   "cell_type": "code",
   "execution_count": 1,
   "id": "a427905d",
   "metadata": {},
   "outputs": [],
   "source": [
    "import numpy as np\n",
    "import pandas as pd\n",
    "import matplotlib as plt"
   ]
  },
  {
   "cell_type": "code",
   "execution_count": 15,
   "id": "01d0c8b9",
   "metadata": {},
   "outputs": [],
   "source": [
    "df = pd.read_csv('data.csv')"
   ]
  },
  {
   "cell_type": "code",
   "execution_count": 17,
   "id": "178c2f7e",
   "metadata": {},
   "outputs": [],
   "source": [
    "df.drop(['S'],axis=1,inplace=True)"
   ]
  },
  {
   "cell_type": "code",
   "execution_count": 22,
   "id": "a6f14e7c",
   "metadata": {},
   "outputs": [],
   "source": [
    "df['city'] = df['city'].astype('category')\n",
    "df['district'] = df['district'].astype('category')\n",
    "df['neighborhood'] = df['neighborhood'].astype('category')"
   ]
  },
  {
   "cell_type": "markdown",
   "id": "4bc5fbcc",
   "metadata": {},
   "source": [
    "Nümerik değişkenlerin minimum,maximum ve çeyreklik değerlerinin bulunması"
   ]
  },
  {
   "cell_type": "code",
   "execution_count": 25,
   "id": "f14d6eae",
   "metadata": {},
   "outputs": [
    {
     "name": "stdout",
     "output_type": "stream",
     "text": [
      "Column: room, min: -2.0, max: 6.0\n",
      "Column: livingroom, min: 1.0, max: 1.0\n",
      "Column: area, min: -20.0, max: 220.0\n",
      "Column: age, min: -25.0, max: 55.0\n",
      "Column: floor, min: -3.5, max: 8.5\n",
      "Column: price, min: -13500.0, max: 62500.0\n"
     ]
    }
   ],
   "source": [
    "columns = df.select_dtypes(include=[np.number]).columns\n",
    "min_values = []\n",
    "max_values = []\n",
    "for column in columns:\n",
    "    Q1 = df[column].quantile(0.25)\n",
    "    Q3 = df[column].quantile(0.75)\n",
    "    IQR = Q3 - Q1\n",
    "    min_value = Q1 - 1.5 * IQR\n",
    "    max_value = Q3 + 1.5 * IQR\n",
    "    min_values.append(min_value)\n",
    "    max_values.append(max_value)\n",
    "    print(f\"Column: {column}, min: {min_value}, max: {max_value}\")"
   ]
  },
  {
   "cell_type": "markdown",
   "id": "f8cc4bae",
   "metadata": {},
   "source": [
    "Aykırı değerlerin temizlenmesi"
   ]
  },
  {
   "cell_type": "code",
   "execution_count": 29,
   "id": "936fe345",
   "metadata": {},
   "outputs": [],
   "source": [
    "for i,column in enumerate(columns):\n",
    "    df = df[(df[column] >= min_values[i]) & (df[column] <= max_values[i])]\n"
   ]
  },
  {
   "cell_type": "code",
   "execution_count": 32,
   "id": "04596d8d",
   "metadata": {},
   "outputs": [],
   "source": [
    "df = df[df['price'] >= 3000]"
   ]
  },
  {
   "cell_type": "code",
   "execution_count": 35,
   "id": "d63c93d6",
   "metadata": {},
   "outputs": [],
   "source": [
    "df.to_csv('data_cleaned.csv', index=False)"
   ]
  },
  {
   "cell_type": "code",
   "execution_count": 36,
   "id": "bf59cace",
   "metadata": {},
   "outputs": [
    {
     "name": "stdout",
     "output_type": "stream",
     "text": [
      "<class 'pandas.core.frame.DataFrame'>\n",
      "Index: 22927 entries, 0 to 28670\n",
      "Data columns (total 9 columns):\n",
      " #   Column        Non-Null Count  Dtype   \n",
      "---  ------        --------------  -----   \n",
      " 0   city          22927 non-null  category\n",
      " 1   district      22927 non-null  category\n",
      " 2   neighborhood  22927 non-null  category\n",
      " 3   room          22927 non-null  int64   \n",
      " 4   livingroom    22927 non-null  int64   \n",
      " 5   area          22927 non-null  int64   \n",
      " 6   age           22927 non-null  int64   \n",
      " 7   floor         22927 non-null  int64   \n",
      " 8   price         22927 non-null  int64   \n",
      "dtypes: category(3), int64(6)\n",
      "memory usage: 1.4 MB\n",
      "None\n"
     ]
    }
   ],
   "source": [
    "print(df.info())"
   ]
  },
  {
   "cell_type": "code",
   "execution_count": null,
   "id": "d2b277c4",
   "metadata": {},
   "outputs": [],
   "source": []
  }
 ],
 "metadata": {
  "kernelspec": {
   "display_name": "base",
   "language": "python",
   "name": "python3"
  },
  "language_info": {
   "codemirror_mode": {
    "name": "ipython",
    "version": 3
   },
   "file_extension": ".py",
   "mimetype": "text/x-python",
   "name": "python",
   "nbconvert_exporter": "python",
   "pygments_lexer": "ipython3",
   "version": "3.12.7"
  }
 },
 "nbformat": 4,
 "nbformat_minor": 5
}
