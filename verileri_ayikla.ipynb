{
 "cells": [
  {
   "cell_type": "markdown",
   "metadata": {},
   "source": [
    "# Türkiye İçin Kira Tahmin Uygulaması"
   ]
  },
  {
   "cell_type": "code",
   "execution_count": 1,
   "metadata": {},
   "outputs": [],
   "source": [
    "import os \n",
    "import numpy as np\n",
    "import pandas as pd"
   ]
  },
  {
   "cell_type": "code",
   "execution_count": 2,
   "metadata": {},
   "outputs": [],
   "source": [
    "def drop_columns(df, cols):\n",
    "    \"\"\"\n",
    "    This function removes the columns from a DataFrame.\n",
    "    \"\"\"\n",
    "    for col in cols:\n",
    "        try:\n",
    "            df.drop([col], axis=1, inplace=True)\n",
    "        except Exception as e:\n",
    "            print(f\"Bir hata oluştu: {e}\")    "
   ]
  },
  {
   "cell_type": "code",
   "execution_count": 3,
   "metadata": {},
   "outputs": [],
   "source": [
    "df = pd.read_csv('HepsiEmlak/hepsiemlak.csv')"
   ]
  },
  {
   "cell_type": "code",
   "execution_count": 4,
   "metadata": {},
   "outputs": [
    {
     "data": {
      "text/plain": [
       "['hepsiemlak (1).csv',\n",
       " 'hepsiemlak (2).csv',\n",
       " 'hepsiemlak (3).csv',\n",
       " 'hepsiemlak.csv']"
      ]
     },
     "execution_count": 4,
     "metadata": {},
     "output_type": "execute_result"
    }
   ],
   "source": [
    "os.listdir('HepsiEmlak')"
   ]
  },
  {
   "cell_type": "code",
   "execution_count": 5,
   "metadata": {},
   "outputs": [],
   "source": [
    "files = os.listdir('HepsiEmlak')"
   ]
  },
  {
   "cell_type": "code",
   "execution_count": 6,
   "metadata": {},
   "outputs": [],
   "source": [
    "df = pd.concat([pd.read_csv(f\"HepsiEmlak/{file}\") for file in files], ignore_index=True)"
   ]
  },
  {
   "cell_type": "code",
   "execution_count": 7,
   "metadata": {},
   "outputs": [],
   "source": [
    "df.drop(['photo-count',\n",
    "       'list-view-date', 'left','eids-badge__description', 'he-lazy-image src', 'eids-badge__label',\n",
    "       'list-view-header', 'list-view-location', 'img-wrp href',\n",
    "       'he-lazy-image src 2', 'listing-card--owner-info__firm-name',\n",
    "       'he-lazy-image src 3', 'wp-btn', 'listing-card--owner-info__name'], axis=1, inplace=True)"
   ]
  },
  {
   "cell_type": "code",
   "execution_count": 8,
   "metadata": {},
   "outputs": [
    {
     "name": "stdout",
     "output_type": "stream",
     "text": [
      "<class 'pandas.core.frame.DataFrame'>\n",
      "RangeIndex: 28671 entries, 0 to 28670\n",
      "Data columns (total 7 columns):\n",
      " #   Column           Non-Null Count  Dtype \n",
      "---  ------           --------------  ----- \n",
      " 0   img-link href    28671 non-null  object\n",
      " 1   list-view-price  28671 non-null  object\n",
      " 2   currency         28671 non-null  object\n",
      " 3   celly            28671 non-null  object\n",
      " 4   celly 2          28671 non-null  object\n",
      " 5   celly 3          28671 non-null  object\n",
      " 6   celly 4          27234 non-null  object\n",
      "dtypes: object(7)\n",
      "memory usage: 1.5+ MB\n",
      "None\n"
     ]
    }
   ],
   "source": [
    "print(df.info())"
   ]
  },
  {
   "cell_type": "code",
   "execution_count": 9,
   "metadata": {},
   "outputs": [],
   "source": [
    "df.drop(['currency'], axis=1, inplace=True)"
   ]
  },
  {
   "cell_type": "code",
   "execution_count": 10,
   "metadata": {},
   "outputs": [
    {
     "name": "stdout",
     "output_type": "stream",
     "text": [
      "<class 'pandas.core.frame.DataFrame'>\n",
      "RangeIndex: 28671 entries, 0 to 28670\n",
      "Data columns (total 6 columns):\n",
      " #   Column           Non-Null Count  Dtype \n",
      "---  ------           --------------  ----- \n",
      " 0   img-link href    28671 non-null  object\n",
      " 1   list-view-price  28671 non-null  object\n",
      " 2   celly            28671 non-null  object\n",
      " 3   celly 2          28671 non-null  object\n",
      " 4   celly 3          28671 non-null  object\n",
      " 5   celly 4          27234 non-null  object\n",
      "dtypes: object(6)\n",
      "memory usage: 1.3+ MB\n",
      "None\n"
     ]
    }
   ],
   "source": [
    "print(df.info())"
   ]
  },
  {
   "cell_type": "code",
   "execution_count": 11,
   "metadata": {},
   "outputs": [
    {
     "name": "stdout",
     "output_type": "stream",
     "text": [
      "(28671, 6)\n"
     ]
    }
   ],
   "source": [
    "print(df.shape)"
   ]
  },
  {
   "cell_type": "code",
   "execution_count": 12,
   "metadata": {},
   "outputs": [],
   "source": [
    "df['location'] = df['img-link href'].apply(lambda x: x.split('/')[3])\n",
    "df['city'] = df['location'].str.split('-').str[0]\n",
    "df['district'] = df['location'].str.split('-').str[1]\n",
    "df['neighborhood'] = df['location'].str.split('-').str[2:-1] \n",
    "df['neighborhood'] = df['neighborhood'].apply(lambda x: '-'.join(x))"
   ]
  },
  {
   "cell_type": "code",
   "execution_count": 13,
   "metadata": {},
   "outputs": [],
   "source": [
    "drop_columns(df, ['img-link href', 'location'])"
   ]
  },
  {
   "cell_type": "code",
   "execution_count": 14,
   "metadata": {},
   "outputs": [
    {
     "name": "stdout",
     "output_type": "stream",
     "text": [
      "['3 +\\n                          1' '1 +\\n                          1'\n",
      " '4 +\\n                          1' '2 +\\n                          1'\n",
      " '5 +\\n                          1' '2 +\\n                          0'\n",
      " '3 +\\n                          3' '3 +\\n                          0'\n",
      " '2 +\\n                          12' '4 +\\n                          2'\n",
      " '7 +\\n                          2' '3 +\\n                          2'\n",
      " '8 +\\n                          0' '2 +\\n                          2'\n",
      " '5 +\\n                          2' '6 +\\n                          1'\n",
      " 'Stüdyo' '2 +\\n                          10'\n",
      " '6 +\\n                          0' '1 +\\n                          3'\n",
      " '7 +\\n                          1' '6 +\\n                          2'\n",
      " '9 +\\n                          3' '4 +\\n                          0'\n",
      " '1 +\\n                          10' '8 +\\n                          1'\n",
      " '12 +\\n                          1' '3 +\\n                          10'\n",
      " '7 +\\n                          3' '10 +\\n                          3'\n",
      " '12 +\\n                          4' '36 +\\n                          15'\n",
      " '1 +\\n                          2' '2 +\\n                          3'\n",
      " '10 +\\n                          1' '4 +\\n                          4'\n",
      " '3 +\\n                          5' '10 +\\n                          0'\n",
      " '10 +\\n                          2' '2 +\\n                          11'\n",
      " '8 +\\n                          2' '18 +\\n                          6'\n",
      " '3 +\\n                          4' '11 +\\n                          1'\n",
      " '9 +\\n                          1' '6 +\\n                          4'\n",
      " '19 +\\n                          9' '7 +\\n                          4'\n",
      " '5 +\\n                          0' '1 +\\n                          11'\n",
      " '11 +\\n                          2' '4 +\\n                          3'\n",
      " '30 +\\n                          10' '8 +\\n                          4'\n",
      " '12 +\\n                          3' '21 +\\n                          1'\n",
      " '5 +\\n                          3' '8 +\\n                          3'\n",
      " '14 +\\n                          10' '2 +\\n                          946'\n",
      " '26 +\\n                          1' '8 +\\n                          10'\n",
      " '1 +\\n                          4' '21 +\\n                          0'\n",
      " '50 +\\n                          24' '6 +\\n                          3'\n",
      " '1 +\\n                          223' '50 +\\n                          10']\n"
     ]
    }
   ],
   "source": [
    "print(df['celly'].unique())"
   ]
  },
  {
   "cell_type": "code",
   "execution_count": 15,
   "metadata": {},
   "outputs": [],
   "source": [
    "df['celly'] = df['celly'].apply(lambda x: x.replace('Stüdyo','1 + 0'))\n",
    "df['celly'] = df['celly'].apply(lambda x: x.replace('\\n',''))\n",
    "df['room'] = df['celly'].apply(lambda x: x.split('+')[0]).astype(int)\n",
    "df['livingroom'] = df['celly'].apply(lambda x: x.split('+')[1]).astype(int)"
   ]
  },
  {
   "cell_type": "code",
   "execution_count": 16,
   "metadata": {},
   "outputs": [
    {
     "name": "stdout",
     "output_type": "stream",
     "text": [
      "<class 'pandas.core.frame.DataFrame'>\n",
      "RangeIndex: 28671 entries, 0 to 28670\n",
      "Data columns (total 10 columns):\n",
      " #   Column           Non-Null Count  Dtype \n",
      "---  ------           --------------  ----- \n",
      " 0   list-view-price  28671 non-null  object\n",
      " 1   celly            28671 non-null  object\n",
      " 2   celly 2          28671 non-null  object\n",
      " 3   celly 3          28671 non-null  object\n",
      " 4   celly 4          27234 non-null  object\n",
      " 5   city             28671 non-null  object\n",
      " 6   district         28671 non-null  object\n",
      " 7   neighborhood     28671 non-null  object\n",
      " 8   room             28671 non-null  int32 \n",
      " 9   livingroom       28671 non-null  int32 \n",
      "dtypes: int32(2), object(8)\n",
      "memory usage: 2.0+ MB\n",
      "None\n"
     ]
    }
   ],
   "source": [
    "print(df.info())"
   ]
  },
  {
   "cell_type": "code",
   "execution_count": 17,
   "metadata": {},
   "outputs": [],
   "source": [
    "drop_columns(df,['celly'])"
   ]
  },
  {
   "cell_type": "code",
   "execution_count": 18,
   "metadata": {},
   "outputs": [
    {
     "name": "stdout",
     "output_type": "stream",
     "text": [
      "['110 m²' '55 m²' '160 m²' '95 m²' '158 m²' '275 m²' '124 m²' '65 m²'\n",
      " '170 m²' '150 m²' '130 m²' '115 m²' '100 m²' '165 m²' '128 m²' '85 m²'\n",
      " '74 m²' '175 m²' '200 m²' '192 m²' '94 m²' '48 m²' '135 m²' '106 m²'\n",
      " '174 m²' '136 m²' '45 m²' '80 m²' '90 m²' '195 m²' '60 m²' '96 m²'\n",
      " '180 m²' '52 m²' '250 m²' '120 m²' '72 m²' '70 m²' '36 m²' '145 m²'\n",
      " '129 m²' '185 m²' '39 m²' '235 m²' '125 m²' '190 m²' '105 m²' '50 m²'\n",
      " '210 m²' '950 m²' '75 m²' '176 m²' '140 m²' '108 m²' '569 m²' '123 m²'\n",
      " '47 m²' '230 m²' '400 m²' '380 m²' '64 m²' '295 m²' '58 m²' '220 m²'\n",
      " '280 m²' '155 m²' '300 m²' '20 m²' '240 m²' '25 m²' '82 m²' '119 m²'\n",
      " '600 m²' '420 m²' '92 m²' '209 m²' '35 m²' '199 m²' '138 m²' '265 m²'\n",
      " '77 m²' '245 m²' '68 m²' '169 m²' '56 m²' '126 m²' '1.350 m²' '117 m²'\n",
      " '730 m²' '66 m²' '330 m²' '260 m²' '164 m²' '550 m²' '350 m²' '62 m²'\n",
      " '499 m²' '118 m²' '22 m²' '219 m²' '142 m²' '109 m²' '101 m²' '148 m²'\n",
      " '57 m²' '54 m²' '98 m²' '42 m²' '161 m²' '238 m²' '188 m²' '167 m²'\n",
      " '97 m²' '222 m²' '147 m²' '480 m²' '99 m²' '139 m²' '162 m²' '189 m²'\n",
      " '34 m²' '103 m²' '63 m²' '69 m²' '121 m²' '205 m²' '700 m²' '425 m²'\n",
      " '163 m²' '44 m²' '46 m²' '450 m²' '67 m²' '49 m²' '325 m²' '76 m²'\n",
      " '225 m²' '43 m²' '73 m²' '290 m²' '40 m²' '215 m²' '144 m²' '232 m²'\n",
      " '53 m²' '1.450 m²' '33 m²' '88 m²' '81 m²' '270 m²' '183 m²' '239 m²'\n",
      " '122 m²' '340 m²' '83 m²' '178 m²' '186 m²' '87 m²' '279 m²' '182 m²'\n",
      " '89 m²' '465 m²' '86 m²' '107 m²' '84 m²' '149 m²' '116 m²' '32 m²'\n",
      " '51 m²' '30 m²' '61 m²' '102 m²' '93 m²' '500 m²' '166 m²' '71 m²'\n",
      " '104 m²' '78 m²' '137 m²' '198 m²' '41 m²' '133 m²' '333 m²' '159 m²'\n",
      " '320 m²' '650 m²' '376 m²' '284 m²' '91 m²' '187 m²' '216 m²' '171 m²'\n",
      " '179 m²' '112 m²' '26 m²' '132 m²' '211 m²' '269 m²' '243 m²' '201 m²'\n",
      " '114 m²' '154 m²' '255 m²' '156 m²' '390 m²' '366 m²' '360 m²' '370 m²'\n",
      " '37 m²' '111 m²' '241 m²' '274 m²' '146 m²' '299 m²' '470 m²' '315 m²'\n",
      " '381 m²' '244 m²' '1.400 m²' '233 m²' '552 m²' '193 m²' '184 m²' '131 m²'\n",
      " '134 m²' '38 m²' '312 m²' '2.000 m²' '254 m²' '1.300 m²' '248 m²'\n",
      " '217 m²' '310 m²' '214 m²' '127 m²' '1.335 m²' '151 m²' '365 m²' '610 m²'\n",
      " '395 m²' '750 m²' '1.200 m²' '375 m²' '168 m²' '21 m²' '1.121 m²'\n",
      " '1.000 m²' '177 m²' '59 m²' '152 m²' '271 m²' '203 m²' '272 m²' '285 m²'\n",
      " '259 m²' '79 m²' '327 m²' '143 m²' '218 m²' '510 m²' '229 m²' '460 m²'\n",
      " '221 m²' '172 m²' '28 m²' '377 m²' '1.786 m²' '298 m²' '125.115 m²'\n",
      " '440 m²' '800 m²' '301 m²' '355 m²' '15 m²' '2.700 m²' '398 m²' '359 m²'\n",
      " '113 m²' '202 m²' '399 m²' '336 m²' '1.115 m²' '194 m²' '256 m²' '157 m²'\n",
      " '64.451 m²' '141 m²' '349 m²' '313 m²' '257 m²' '197 m²' '630 m²'\n",
      " '153 m²' '1.723 m²' '1.198 m²' '705 m²' '212 m²' '498 m²' '430 m²'\n",
      " '6.000 m²' '24 m²' '520 m²' '720 m²' '385 m²' '224 m²' '191 m²' '196 m²'\n",
      " '435 m²' '441 m²' '335 m²' '181 m²' '252 m²' '388 m²' '7.395 m²' '31 m²'\n",
      " '1.487 m²' '578 m²' '337 m²' '389 m²' '404 m²' '236 m²' '208 m²'\n",
      " '2.500 m²' '326 m²' '640 m²' '580 m²' '496 m²' '1.271 m²' '294 m²'\n",
      " '490 m²' '986 m²' '1.500 m²' '249 m²' '900 m²' '228 m²' '475 m²' '273 m²'\n",
      " '9.080 m²' '508 m²' '18 m²' '410 m²' '539 m²' '234 m²' '251 m²'\n",
      " '2.600 m²' '237 m²' '173 m²' '850 m²' '286 m²' '494 m²' '10 m²'\n",
      " '1.305 m²' '525 m²' '27 m²' '1.735 m²' '407 m²' '352 m²' '1.100 m²'\n",
      " '3.000 m²' '17 m²' '281 m²' '575 m²' '735 m²' '369 m²' '204 m²'\n",
      " '8.525 m²' '12 m²' '282 m²' '11 m²' '1.800 m²' '4.230 m²' '223 m²'\n",
      " '278 m²' '3.500 m²']\n"
     ]
    }
   ],
   "source": [
    "print(df['celly 2'].unique())"
   ]
  },
  {
   "cell_type": "code",
   "execution_count": 19,
   "metadata": {},
   "outputs": [],
   "source": [
    "df['celly 2'] = df['celly 2'].apply(lambda x: x.replace('.',''))\n",
    "df['area'] = df['celly 2'].apply(lambda x: x.split(' ')[0]).astype(int)"
   ]
  },
  {
   "cell_type": "code",
   "execution_count": 20,
   "metadata": {},
   "outputs": [],
   "source": [
    "drop_columns(df, ['celly 2'])"
   ]
  },
  {
   "cell_type": "code",
   "execution_count": 21,
   "metadata": {},
   "outputs": [
    {
     "name": "stdout",
     "output_type": "stream",
     "text": [
      "['30\\n                        Yaşında'\n",
      " '5\\n                        Yaşında' 'Sıfır Bina'\n",
      " '15\\n                        Yaşında'\n",
      " '12\\n                        Yaşında'\n",
      " '9\\n                        Yaşında'\n",
      " '20\\n                        Yaşında'\n",
      " '16\\n                        Yaşında'\n",
      " '21\\n                        Yaşında'\n",
      " '37\\n                        Yaşında'\n",
      " '28\\n                        Yaşında'\n",
      " '6\\n                        Yaşında'\n",
      " '10\\n                        Yaşında'\n",
      " '18\\n                        Yaşında'\n",
      " '2\\n                        Yaşında'\n",
      " '11\\n                        Yaşında'\n",
      " '24\\n                        Yaşında'\n",
      " '1\\n                        Yaşında'\n",
      " '25\\n                        Yaşında'\n",
      " '4\\n                        Yaşında'\n",
      " '23\\n                        Yaşında'\n",
      " '14\\n                        Yaşında'\n",
      " '3\\n                        Yaşında' '8\\n                        Yaşında'\n",
      " '22\\n                        Yaşında'\n",
      " '7\\n                        Yaşında'\n",
      " '35\\n                        Yaşında'\n",
      " '27\\n                        Yaşında'\n",
      " '26\\n                        Yaşında'\n",
      " '31\\n                        Yaşında'\n",
      " '50\\n                        Yaşında'\n",
      " '48\\n                        Yaşında'\n",
      " '17\\n                        Yaşında'\n",
      " '45\\n                        Yaşında'\n",
      " '19\\n                        Yaşında'\n",
      " '32\\n                        Yaşında'\n",
      " '33\\n                        Yaşında'\n",
      " '40\\n                        Yaşında'\n",
      " '38\\n                        Yaşında'\n",
      " '13\\n                        Yaşında'\n",
      " '100\\n                        Yaşında'\n",
      " '29\\n                        Yaşında'\n",
      " '36\\n                        Yaşında'\n",
      " '34\\n                        Yaşında'\n",
      " '44\\n                        Yaşında'\n",
      " '49\\n                        Yaşında'\n",
      " '55\\n                        Yaşında'\n",
      " '42\\n                        Yaşında'\n",
      " '39\\n                        Yaşında'\n",
      " '110\\n                        Yaşında'\n",
      " '65\\n                        Yaşında'\n",
      " '41\\n                        Yaşında'\n",
      " '43\\n                        Yaşında'\n",
      " '380\\n                        Yaşında'\n",
      " '51\\n                        Yaşında'\n",
      " '46\\n                        Yaşında'\n",
      " '47\\n                        Yaşında'\n",
      " '60\\n                        Yaşında'\n",
      " '115\\n                        Yaşında'\n",
      " '52\\n                        Yaşında'\n",
      " '64\\n                        Yaşında'\n",
      " '99\\n                        Yaşında'\n",
      " '510\\n                        Yaşında'\n",
      " '75\\n                        Yaşında'\n",
      " '53\\n                        Yaşında'\n",
      " '72\\n                        Yaşında'\n",
      " '70\\n                        Yaşında'\n",
      " '150\\n                        Yaşında'\n",
      " '200\\n                        Yaşında'\n",
      " '63\\n                        Yaşında'\n",
      " '130\\n                        Yaşında'\n",
      " '97\\n                        Yaşında'\n",
      " '123\\n                        Yaşında'\n",
      " '80\\n                        Yaşında'\n",
      " '90\\n                        Yaşında'\n",
      " '85\\n                        Yaşında'\n",
      " '95\\n                        Yaşında'\n",
      " '68\\n                        Yaşında'\n",
      " '54\\n                        Yaşında'\n",
      " '300\\n                        Yaşında'\n",
      " '57\\n                        Yaşında'\n",
      " '396\\n                        Yaşında']\n"
     ]
    }
   ],
   "source": [
    "print(df['celly 3'].unique())"
   ]
  },
  {
   "cell_type": "code",
   "execution_count": 22,
   "metadata": {},
   "outputs": [],
   "source": [
    "df['celly 3'] = df['celly 3'].apply(lambda x: x.replace('Sıfır Bina','0'))\n",
    "df['celly 3'] = df['celly 3'].apply(lambda x: x.replace('\\n',' '))\n",
    "df['age'] = df['celly 3'].apply(lambda x: x.split(' ')[0]).astype(int)"
   ]
  },
  {
   "cell_type": "code",
   "execution_count": 23,
   "metadata": {},
   "outputs": [],
   "source": [
    "drop_columns(df,['celly 3'])"
   ]
  },
  {
   "cell_type": "code",
   "execution_count": 24,
   "metadata": {},
   "outputs": [
    {
     "name": "stdout",
     "output_type": "stream",
     "text": [
      "['1. Kat' '4. Kat' 'Yüksek Giriş' '3. Kat' '2. Kat' '6. Kat' '8. Kat'\n",
      " '5. Kat' nan 'Giriş Katı' 'En Üst Kat' '12. Kat' 'Zemin' 'Ara Kat'\n",
      " 'Bahçe Katı' '7. Kat' 'Kot 3' '9. Kat' 'Villa Katı' 'Çatı Katı' 'Kot 1'\n",
      " '10. Kat' 'Tripleks' '11. Kat' 'Teras Katı' '15. Kat' '13. Kat' 'Kot 2'\n",
      " '14. Kat' 'Yarı Bodrum' '21 ve üzeri' '18. Kat' '19. Kat' '17. Kat'\n",
      " '16. Kat' 'Bodrum' 'Bodrum ve Zemin' '20. Kat' 'Asma Kat']\n"
     ]
    }
   ],
   "source": [
    "print(df['celly 4'].unique())"
   ]
  },
  {
   "cell_type": "code",
   "execution_count": 27,
   "metadata": {},
   "outputs": [],
   "source": [
    "replace_dict = {\n",
    "    'Yüksek Giriş': '1. Kat',\n",
    "    'Giriş Katı': '0. Kat',\n",
    "    'En Üst Kat': '5. Kat',\n",
    "    'Zemin' : '0. Kat',\n",
    "    'Ara Kat' : '3. Kat',\n",
    "    'Bahçe Katı' : '0. Kat',\n",
    "    'Kot 3' : '-3. Kat',\n",
    "    'Villa Katı' : '0. Kat',\n",
    "    'Çatı Katı' : '5. Kat',\n",
    "    'Yarı Bodrum' : '0. Kat',\n",
    "    'Kot 1' : '-1. Kat',\n",
    "    'Tripleks' : '0. Kat',\n",
    "    'Teras Katı': '5. Kat',\n",
    "    'Kot 2' : '-2. Kat',\n",
    "    '21 ve üzeri' : '21. Kat',\n",
    "    'Bodrum' : '0. Kat',\n",
    "    'Bodrum ve Zemin' : '0. Kat',\n",
    "    'Asma Kat' : '1. Kat',\n",
    "    'nan' : '2. Kat',\n",
    "}\n",
    "df['celly 4'] = df['celly 4'].replace(replace_dict.keys(), replace_dict.values()).astype(str)\n",
    "df['celly 4'].dropna(inplace=True)\n",
    "df['floor'] = df['celly 4'].astype(str).apply(lambda x: x.split('.')[0]).astype(int)"
   ]
  },
  {
   "cell_type": "code",
   "execution_count": 28,
   "metadata": {},
   "outputs": [
    {
     "name": "stdout",
     "output_type": "stream",
     "text": [
      "[ 1  4  3  2  6  8  5  0 12  7 -3  9 -1 10 11 15 13 -2 14 21 18 19 17 16\n",
      " 20]\n"
     ]
    }
   ],
   "source": [
    "print(df['floor'].unique())"
   ]
  },
  {
   "cell_type": "code",
   "execution_count": 29,
   "metadata": {},
   "outputs": [],
   "source": [
    "drop_columns(df, ['celly 4'])"
   ]
  },
  {
   "cell_type": "code",
   "execution_count": 30,
   "metadata": {},
   "outputs": [
    {
     "name": "stdout",
     "output_type": "stream",
     "text": [
      "<class 'pandas.core.frame.DataFrame'>\n",
      "RangeIndex: 28671 entries, 0 to 28670\n",
      "Data columns (total 9 columns):\n",
      " #   Column           Non-Null Count  Dtype \n",
      "---  ------           --------------  ----- \n",
      " 0   list-view-price  28671 non-null  object\n",
      " 1   city             28671 non-null  object\n",
      " 2   district         28671 non-null  object\n",
      " 3   neighborhood     28671 non-null  object\n",
      " 4   room             28671 non-null  int32 \n",
      " 5   livingroom       28671 non-null  int32 \n",
      " 6   area             28671 non-null  int32 \n",
      " 7   age              28671 non-null  int32 \n",
      " 8   floor            28671 non-null  int32 \n",
      "dtypes: int32(5), object(4)\n",
      "memory usage: 1.4+ MB\n",
      "None\n"
     ]
    }
   ],
   "source": [
    "print(df.info())"
   ]
  },
  {
   "cell_type": "code",
   "execution_count": 31,
   "metadata": {},
   "outputs": [],
   "source": [
    "df['list-view-price'] = df['list-view-price'].astype(str).apply(lambda x: x.replace('.',''))\n",
    "df['price'] = df['list-view-price'].astype(int)"
   ]
  },
  {
   "cell_type": "code",
   "execution_count": 34,
   "metadata": {},
   "outputs": [],
   "source": [
    "drop_columns(df, ['list-view-price'])"
   ]
  },
  {
   "cell_type": "code",
   "execution_count": 36,
   "metadata": {},
   "outputs": [],
   "source": [
    "df.to_csv('data.csv')"
   ]
  },
  {
   "cell_type": "code",
   "execution_count": null,
   "metadata": {},
   "outputs": [],
   "source": []
  }
 ],
 "metadata": {
  "kernelspec": {
   "display_name": "base",
   "language": "python",
   "name": "python3"
  },
  "language_info": {
   "codemirror_mode": {
    "name": "ipython",
    "version": 3
   },
   "file_extension": ".py",
   "mimetype": "text/x-python",
   "name": "python",
   "nbconvert_exporter": "python",
   "pygments_lexer": "ipython3",
   "version": "3.12.7"
  }
 },
 "nbformat": 4,
 "nbformat_minor": 2
}
