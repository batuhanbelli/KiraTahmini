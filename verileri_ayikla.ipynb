{
 "cells": [
  {
   "cell_type": "markdown",
   "metadata": {},
   "source": [
    "# Türkiye İçin Kira Tahmin Uygulaması"
   ]
  },
  {
   "cell_type": "code",
   "execution_count": 2,
   "metadata": {},
   "outputs": [],
   "source": [
    "import os \n",
    "import numpy as np\n",
    "import pandas as pd"
   ]
  },
  {
   "cell_type": "code",
   "execution_count": 28,
   "metadata": {},
   "outputs": [],
   "source": [
    "def drop_columns(df, cols):\n",
    "    \"\"\"\n",
    "    This function removes the columns from a DataFrame.\n",
    "    \"\"\"\n",
    "    for col in cols:\n",
    "        try:\n",
    "            df.drop([col], axis=1, inplace=True)\n",
    "        except Exception as e:\n",
    "            print(f\"Bir hata oluştu: {e}\")    "
   ]
  },
  {
   "cell_type": "code",
   "execution_count": 3,
   "metadata": {},
   "outputs": [],
   "source": [
    "df = pd.read_csv('HepsiEmlak/hepsiemlak.csv')"
   ]
  },
  {
   "cell_type": "code",
   "execution_count": 4,
   "metadata": {},
   "outputs": [
    {
     "data": {
      "text/plain": [
       "['hepsiemlak (1).csv',\n",
       " 'hepsiemlak (2).csv',\n",
       " 'hepsiemlak (3).csv',\n",
       " 'hepsiemlak.csv']"
      ]
     },
     "execution_count": 4,
     "metadata": {},
     "output_type": "execute_result"
    }
   ],
   "source": [
    "os.listdir('HepsiEmlak')"
   ]
  },
  {
   "cell_type": "code",
   "execution_count": 5,
   "metadata": {},
   "outputs": [],
   "source": [
    "files = os.listdir('HepsiEmlak')"
   ]
  },
  {
   "cell_type": "code",
   "execution_count": 6,
   "metadata": {},
   "outputs": [],
   "source": [
    "df = pd.concat([pd.read_csv(f\"HepsiEmlak/{file}\") for file in files], ignore_index=True)"
   ]
  },
  {
   "cell_type": "code",
   "execution_count": 7,
   "metadata": {},
   "outputs": [],
   "source": [
    "df.drop(['photo-count',\n",
    "       'list-view-date', 'left','eids-badge__description', 'he-lazy-image src', 'eids-badge__label',\n",
    "       'list-view-header', 'list-view-location', 'img-wrp href',\n",
    "       'he-lazy-image src 2', 'listing-card--owner-info__firm-name',\n",
    "       'he-lazy-image src 3', 'wp-btn', 'listing-card--owner-info__name'], axis=1, inplace=True)"
   ]
  },
  {
   "cell_type": "code",
   "execution_count": 8,
   "metadata": {},
   "outputs": [
    {
     "name": "stdout",
     "output_type": "stream",
     "text": [
      "<class 'pandas.core.frame.DataFrame'>\n",
      "RangeIndex: 28671 entries, 0 to 28670\n",
      "Data columns (total 7 columns):\n",
      " #   Column           Non-Null Count  Dtype \n",
      "---  ------           --------------  ----- \n",
      " 0   img-link href    28671 non-null  object\n",
      " 1   list-view-price  28671 non-null  object\n",
      " 2   currency         28671 non-null  object\n",
      " 3   celly            28671 non-null  object\n",
      " 4   celly 2          28671 non-null  object\n",
      " 5   celly 3          28671 non-null  object\n",
      " 6   celly 4          27234 non-null  object\n",
      "dtypes: object(7)\n",
      "memory usage: 1.5+ MB\n",
      "None\n"
     ]
    }
   ],
   "source": [
    "print(df.info())"
   ]
  },
  {
   "cell_type": "code",
   "execution_count": 9,
   "metadata": {},
   "outputs": [],
   "source": [
    "df.drop(['currency'], axis=1, inplace=True)"
   ]
  },
  {
   "cell_type": "code",
   "execution_count": 10,
   "metadata": {},
   "outputs": [
    {
     "name": "stdout",
     "output_type": "stream",
     "text": [
      "<class 'pandas.core.frame.DataFrame'>\n",
      "RangeIndex: 28671 entries, 0 to 28670\n",
      "Data columns (total 6 columns):\n",
      " #   Column           Non-Null Count  Dtype \n",
      "---  ------           --------------  ----- \n",
      " 0   img-link href    28671 non-null  object\n",
      " 1   list-view-price  28671 non-null  object\n",
      " 2   celly            28671 non-null  object\n",
      " 3   celly 2          28671 non-null  object\n",
      " 4   celly 3          28671 non-null  object\n",
      " 5   celly 4          27234 non-null  object\n",
      "dtypes: object(6)\n",
      "memory usage: 1.3+ MB\n",
      "None\n"
     ]
    }
   ],
   "source": [
    "print(df.info())"
   ]
  },
  {
   "cell_type": "code",
   "execution_count": 11,
   "metadata": {},
   "outputs": [
    {
     "name": "stdout",
     "output_type": "stream",
     "text": [
      "                                       img-link href list-view-price  \\\n",
      "0  https://www.hepsiemlak.com/ankara-cankaya-harb...          33.000   \n",
      "1  https://www.hepsiemlak.com/canakkale-merkez-ba...          17.000   \n",
      "2  https://www.hepsiemlak.com/ankara-golbasi-ince...          25.250   \n",
      "3  https://www.hepsiemlak.com/ankara-yenimahalle-...          35.000   \n",
      "4  https://www.hepsiemlak.com/antalya-dosemealti-...          18.000   \n",
      "\n",
      "                              celly celly 2  \\\n",
      "0  3 +\\n                          1  110 m²   \n",
      "1  1 +\\n                          1   55 m²   \n",
      "2  1 +\\n                          1   55 m²   \n",
      "3  4 +\\n                          1  160 m²   \n",
      "4  2 +\\n                          1   95 m²   \n",
      "\n",
      "                               celly 3       celly 4  \n",
      "0  30\\n                        Yaşında        1. Kat  \n",
      "1   5\\n                        Yaşında        4. Kat  \n",
      "2                           Sıfır Bina  Yüksek Giriş  \n",
      "3  15\\n                        Yaşında        3. Kat  \n",
      "4  12\\n                        Yaşında        2. Kat  \n"
     ]
    }
   ],
   "source": [
    "print(df.head())"
   ]
  },
  {
   "cell_type": "code",
   "execution_count": 12,
   "metadata": {},
   "outputs": [
    {
     "name": "stdout",
     "output_type": "stream",
     "text": [
      "(28671, 6)\n"
     ]
    }
   ],
   "source": [
    "print(df.shape)"
   ]
  },
  {
   "cell_type": "code",
   "execution_count": 21,
   "metadata": {},
   "outputs": [],
   "source": [
    "df['location'] = df['img-link href'].apply(lambda x: x.split('/')[3])\n",
    "df['city'] = df['location'].str.split('-').str[0]\n",
    "df['district'] = df['location'].str.split('-').str[1]\n",
    "df['neighborhood'] = df['location'].str.split('-').str[2:-1] \n",
    "df['neighborhood'] = df['neighborhood'].apply(lambda x: '-'.join(x))"
   ]
  },
  {
   "cell_type": "code",
   "execution_count": 29,
   "metadata": {},
   "outputs": [],
   "source": [
    "drop_columns(df, ['img-link href', 'location'])"
   ]
  },
  {
   "cell_type": "code",
   "execution_count": null,
   "metadata": {},
   "outputs": [],
   "source": []
  }
 ],
 "metadata": {
  "kernelspec": {
   "display_name": "base",
   "language": "python",
   "name": "python3"
  },
  "language_info": {
   "codemirror_mode": {
    "name": "ipython",
    "version": 3
   },
   "file_extension": ".py",
   "mimetype": "text/x-python",
   "name": "python",
   "nbconvert_exporter": "python",
   "pygments_lexer": "ipython3",
   "version": "3.12.7"
  }
 },
 "nbformat": 4,
 "nbformat_minor": 2
}
