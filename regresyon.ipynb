{
 "cells": [
  {
   "cell_type": "markdown",
   "id": "cf56d77c",
   "metadata": {},
   "source": [
    "## Verilerin lineer regresyon ile tahmin edilmesi"
   ]
  },
  {
   "cell_type": "code",
   "execution_count": 3,
   "id": "168fe2ab",
   "metadata": {},
   "outputs": [],
   "source": [
    "import numpy as np\n",
    "import pandas as pd\n",
    "from sklearn.model_selection import train_test_split\n",
    "from sklearn.pipeline import Pipeline\n",
    "from sklearn.preprocessing import StandardScaler, OneHotEncoder\n",
    "from sklearn.compose import ColumnTransformer\n",
    "from sklearn.linear_model import LinearRegression\n",
    "from sklearn.metrics import mean_squared_error\n",
    "from sklearn.metrics import r2_score"
   ]
  },
  {
   "cell_type": "code",
   "execution_count": 4,
   "id": "5ed3d83d",
   "metadata": {},
   "outputs": [],
   "source": [
    "df = pd.read_csv('data_cleaned.csv')"
   ]
  },
  {
   "cell_type": "code",
   "execution_count": 6,
   "id": "bc13c1ad",
   "metadata": {},
   "outputs": [],
   "source": [
    "df['city'] = df['city'].astype('category')\n",
    "df['district'] = df['district'].astype('category')\n",
    "df['neighborhood'] = df['neighborhood'].astype('category')"
   ]
  },
  {
   "cell_type": "code",
   "execution_count": 7,
   "id": "32eeadc5",
   "metadata": {},
   "outputs": [
    {
     "name": "stdout",
     "output_type": "stream",
     "text": [
      "<class 'pandas.core.frame.DataFrame'>\n",
      "RangeIndex: 22927 entries, 0 to 22926\n",
      "Data columns (total 9 columns):\n",
      " #   Column        Non-Null Count  Dtype   \n",
      "---  ------        --------------  -----   \n",
      " 0   city          22927 non-null  category\n",
      " 1   district      22927 non-null  category\n",
      " 2   neighborhood  22927 non-null  category\n",
      " 3   room          22927 non-null  int64   \n",
      " 4   livingroom    22927 non-null  int64   \n",
      " 5   area          22927 non-null  int64   \n",
      " 6   age           22927 non-null  int64   \n",
      " 7   floor         22927 non-null  int64   \n",
      " 8   price         22927 non-null  int64   \n",
      "dtypes: category(3), int64(6)\n",
      "memory usage: 1.3 MB\n",
      "None\n"
     ]
    }
   ],
   "source": [
    "print(df.info())"
   ]
  },
  {
   "cell_type": "code",
   "execution_count": null,
   "id": "ac6035b2",
   "metadata": {},
   "outputs": [],
   "source": [
    "categorical_features = ['city', 'district', 'neighborhood']\n",
    "numerical_features = ['room', 'livingroom', 'area', 'age','floor']"
   ]
  }
 ],
 "metadata": {
  "kernelspec": {
   "display_name": "base",
   "language": "python",
   "name": "python3"
  },
  "language_info": {
   "codemirror_mode": {
    "name": "ipython",
    "version": 3
   },
   "file_extension": ".py",
   "mimetype": "text/x-python",
   "name": "python",
   "nbconvert_exporter": "python",
   "pygments_lexer": "ipython3",
   "version": "3.12.7"
  }
 },
 "nbformat": 4,
 "nbformat_minor": 5
}
